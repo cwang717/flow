{
 "metadata": {
  "language_info": {
   "codemirror_mode": {
    "name": "ipython",
    "version": 3
   },
   "file_extension": ".py",
   "mimetype": "text/x-python",
   "name": "python",
   "nbconvert_exporter": "python",
   "pygments_lexer": "ipython3",
   "version": "3.7.3"
  },
  "orig_nbformat": 4,
  "kernelspec": {
   "name": "python3",
   "display_name": "Python 3.7.3 64-bit ('flow': conda)"
  },
  "interpreter": {
   "hash": "224cdb8e87aeea1ea8504102d0630927bcefb049c2f740bc6dbc09d1395efb98"
  }
 },
 "nbformat": 4,
 "nbformat_minor": 2,
 "cells": [
  {
   "cell_type": "code",
   "execution_count": 5,
   "metadata": {},
   "outputs": [],
   "source": [
    "from lxml import etree\n",
    "from flow.core.util import makexml\n",
    "\n",
    "E = etree.Element"
   ]
  },
  {
   "cell_type": "code",
   "execution_count": 27,
   "metadata": {},
   "outputs": [
    {
     "output_type": "stream",
     "name": "stdout",
     "text": [
      "<types xmlns:xsi=\"http://www.w3.org/2001/XMLSchema-instance\" xsi:noNamespaceSchemaLocation=\"http://sumo.dlr.de/xsd/types_file.xsd\">\n  <type id=\"highway\" numLanes=\"3\" speed=\"30\">\n    <lane index=\"0\" allow=\"all\"/>\n    <lane index=\"1\" allow=\"all\"/>\n    <lane index=\"2\" allow=\"cav_zero\"/>\n  </type>\n  <type id=\"on_ramp\" numLanes=\"1\" speed=\"20\"/>\n  <type id=\"off_ramp\" numLanes=\"1\" speed=\"20\"/>\n</types>\n\n"
     ]
    }
   ],
   "source": [
    "types = [{\n",
    "    \"id\": \"highway\",\n",
    "    \"numLanes\": 3,\n",
    "    \"speed\": 30,\n",
    "    \"zeroLanes\": 1\n",
    "}, {\n",
    "    \"id\": \"on_ramp\",\n",
    "    \"numLanes\": 1,\n",
    "    \"speed\": 20\n",
    "}, {\n",
    "    \"id\": \"off_ramp\",\n",
    "    \"numLanes\": 1,\n",
    "    \"speed\": 20\n",
    "}]\n",
    "\n",
    "for typ in types:\n",
    "    if 'numLanes' in typ:\n",
    "        typ['numLanes'] = str(typ['numLanes'])\n",
    "    if 'speed' in typ:\n",
    "        typ['speed'] = str(typ['speed'])\n",
    "\n",
    "x = makexml('types', 'http://sumo.dlr.de/xsd/types_file.xsd')\n",
    "for type_attributes in types:\n",
    "    x.append(E('type', {k: type_attributes[k] for k in [\"id\", \"numLanes\", \"speed\"]}))\n",
    "    if \"zeroLanes\" in type_attributes:\n",
    "        for i in range(int(type_attributes[\"numLanes\"])):\n",
    "            if i < int(type_attributes[\"numLanes\"])-type_attributes[\"zeroLanes\"]:\n",
    "                x[-1].append(E('lane', {\"index\": str(i), \"allow\": \"all\"}))\n",
    "            else:\n",
    "                x[-1].append(E('lane', {\"index\": str(i), \"allow\": \"cav_zero\"}))\n",
    "print(etree.tostring(x, pretty_print=True).decode())"
   ]
  },
  {
   "cell_type": "code",
   "execution_count": null,
   "metadata": {},
   "outputs": [],
   "source": []
  }
 ]
}