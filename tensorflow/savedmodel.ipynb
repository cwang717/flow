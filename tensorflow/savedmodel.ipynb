{
 "metadata": {
  "language_info": {
   "codemirror_mode": {
    "name": "ipython",
    "version": 3
   },
   "file_extension": ".py",
   "mimetype": "text/x-python",
   "name": "python",
   "nbconvert_exporter": "python",
   "pygments_lexer": "ipython3",
   "version": "3.7.3"
  },
  "orig_nbformat": 4,
  "kernelspec": {
   "name": "python3",
   "display_name": "Python 3.7.3 64-bit ('flow': conda)"
  },
  "interpreter": {
   "hash": "224cdb8e87aeea1ea8504102d0630927bcefb049c2f740bc6dbc09d1395efb98"
  }
 },
 "nbformat": 4,
 "nbformat_minor": 2,
 "cells": [
  {
   "cell_type": "code",
   "execution_count": 1,
   "metadata": {},
   "outputs": [],
   "source": [
    "import tensorflow as tf"
   ]
  },
  {
   "cell_type": "code",
   "execution_count": 12,
   "metadata": {},
   "outputs": [
    {
     "output_type": "stream",
     "name": "stdout",
     "text": [
      "INFO:tensorflow:Restoring parameters from /home/cwang717/tensorflow/policy/model/variables/variables\n",
      "{'action_prob': name: \"default_policy/Exp_1:0\"\n",
      "dtype: DT_FLOAT\n",
      "tensor_shape {\n",
      "  dim {\n",
      "    size: -1\n",
      "  }\n",
      "}\n",
      ", 'actions': name: \"default_policy/add:0\"\n",
      "dtype: DT_FLOAT\n",
      "tensor_shape {\n",
      "  dim {\n",
      "    size: -1\n",
      "  }\n",
      "  dim {\n",
      "    size: 1\n",
      "  }\n",
      "}\n",
      ", 'vf_preds': name: \"default_policy/Reshape:0\"\n",
      "dtype: DT_FLOAT\n",
      "tensor_shape {\n",
      "  dim {\n",
      "    size: -1\n",
      "  }\n",
      "}\n",
      ", 'behaviour_logits': name: \"default_policy/model/fc_out/BiasAdd:0\"\n",
      "dtype: DT_FLOAT\n",
      "tensor_shape {\n",
      "  dim {\n",
      "    size: -1\n",
      "  }\n",
      "  dim {\n",
      "    size: 2\n",
      "  }\n",
      "}\n",
      ", 'action_logp': name: \"default_policy/sub_2:0\"\n",
      "dtype: DT_FLOAT\n",
      "tensor_shape {\n",
      "  dim {\n",
      "    size: -1\n",
      "  }\n",
      "}\n",
      "}\n"
     ]
    }
   ],
   "source": [
    "sess = tf.Session()\n",
    "loaded = tf.saved_model.load(sess, {'serve'}, \"/home/cwang717/tensorflow/policy/model\")\n",
    "infer = loaded.signature_def[\"serving_default\"]\n",
    "print(infer.outputs)\n",
    "\n"
   ]
  }
 ]
}